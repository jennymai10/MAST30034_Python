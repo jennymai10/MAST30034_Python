{
 "cells": [
  {
   "cell_type": "markdown",
   "metadata": {
    "heading_collapsed": true
   },
   "source": [
    "# Applied Data Science (MAST30034) Tutorial 1"
   ]
  },
  {
   "cell_type": "markdown",
   "metadata": {
    "hidden": true
   },
   "source": [
    "- Basic intro to Apache Spark (30-60 minutes)\n",
    "- Project 1 Tips (yes, it's already out and we **strongly recommend you start today**) (remainder of time)\n",
    "_________________"
   ]
  },
  {
   "cell_type": "markdown",
   "metadata": {},
   "source": [
    "## Starting a Spark Session\n",
    "To begin with Spark, we need to start a `SparkSession` class.\n",
    "- `appName`: Name of the Spark app\n",
    "- `config`: Configurations to initialise with. We will initialise this example with `'spark.sql.repl.eagerEval.enabled'` which enables a nicer HTML display (similar to `pandas`) for the DataFrame outputs.\n",
    "- `.getOrCreate()`: Create the spark session."
   ]
  },
  {
   "cell_type": "code",
   "execution_count": 7,
   "metadata": {},
   "outputs": [],
   "source": [
    "from pyspark.sql import SparkSession\n",
    "\n",
    "# Create a spark session (which will run spark jobs)\n",
    "spark = (\n",
    "    SparkSession.builder.appName(\"MAST30034 Tutorial 1\")\n",
    "    .config(\"spark.sql.repl.eagerEval.enabled\", True) \n",
    "    .config(\"spark.sql.parquet.cacheMetadata\", \"true\")\n",
    "    .config(\"spark.sql.session.timeZone\", \"Etc/UTC\")\n",
    "    .getOrCreate()\n",
    ")"
   ]
  },
  {
   "cell_type": "markdown",
   "metadata": {},
   "source": [
    "A general note is to understand that Spark is **immutable**. We'll discuss it further down the track, but for now, just remember this!\n",
    "\n",
    "Documentation is also going to be your saving grace. If you have tried your best **and have read the documentation and researched on Stack Overflow** but still can't get it working, then try Chat-GPT. If that's not possible, then you can ask your tutor for help :P\n",
    "\n",
    "## Reading in the Parquet\n",
    "As of 2022, TLC has made a **great decision** to drop `csv` and adopt `parquet` formats instead. So, what's a `parquet`? \n",
    "\n",
    "Related materials:\n",
    "1. [What if you could get the simplicity, convenience, interoperability, and storage niceties of an old-fashioned CSV with the speed of a NoSQL database and the storage requirements of a gzipped file? Enter Parquet.](https://databricks.com/session/spark-parquet-in-depth)\n",
    "2. [The Parquet Format and Performance Optimization Opportunities](https://databricks.com/session_eu19/the-parquet-format-and-performance-optimization-opportunities)\n",
    "\n",
    "CSV:\n",
    "- `csv` are tabular data formats read in line by line using a `,` delimiter.\n",
    "- That is, these are stored by rows.\n",
    "- They consume a lot of disk space and are one of the **most inefficient** ways of storing data.\n",
    "- However, they are widely used and easy to use for smaller datasets.\n",
    "\n",
    "Parquet:\n",
    "- `parquet` on the other hand is stored in columns and (ELI5) are very efficient with data formats.\n",
    "- For example, a single row in a `csv` can contain several different data types. \n",
    "- `parquet` just have the single data type per column, allowing compression algorithms to be applied to reduce disk space and read efficiency.\n",
    "- For alternatives to `csv` for row based data formats, you can take a look at `avro`.\n",
    "\n",
    "![Divisions of storage format](../../media/storageformat.png)\n",
    "\n",
    "Cost Analysis from Amazon Web Services (AWS): ![image.png](https://miro.medium.com/max/1400/1*vdasMxTjInhBXIRA8K1XYQ.png)\n",
    "\n",
    "Spark Docs\n",
    "- https://spark.apache.org/docs/latest/api/python/reference/pyspark.sql/api/pyspark.sql.DataFrameReader.parquet.html?highlight=read%20parquet\n",
    "- https://spark.apache.org/docs/latest/api/python/reference/pyspark.sql/api/pyspark.sql.DataFrame.show.html?highlight=show#pyspark.sql.DataFrame.show"
   ]
  },
  {
   "cell_type": "code",
   "execution_count": 8,
   "metadata": {
    "ExecuteTime": {
     "end_time": "2023-07-24T04:02:52.129150Z",
     "start_time": "2023-07-24T04:02:45.036746Z"
    }
   },
   "outputs": [
    {
     "name": "stderr",
     "output_type": "stream",
     "text": [
      "[Stage 14:======================================>                   (2 + 1) / 3]\r"
     ]
    },
    {
     "name": "stdout",
     "output_type": "stream",
     "text": [
      "+--------+--------------------+---------------------+---------------+-------------+----------+------------------+------------+------------+------------+-----------+-----+-------+----------+------------+---------------------+------------+--------------------+-----------+\n",
      "|VendorID|tpep_pickup_datetime|tpep_dropoff_datetime|passenger_count|trip_distance|RatecodeID|store_and_fwd_flag|PULocationID|DOLocationID|payment_type|fare_amount|extra|mta_tax|tip_amount|tolls_amount|improvement_surcharge|total_amount|congestion_surcharge|airport_fee|\n",
      "+--------+--------------------+---------------------+---------------+-------------+----------+------------------+------------+------------+------------+-----------+-----+-------+----------+------------+---------------------+------------+--------------------+-----------+\n",
      "|       2| 2023-01-01 00:32:10|  2023-01-01 00:40:36|            1.0|         0.97|       1.0|                 N|         161|         141|           2|        9.3|  1.0|    0.5|       0.0|         0.0|                  1.0|        14.3|                 2.5|        0.0|\n",
      "|       2| 2023-01-01 00:55:08|  2023-01-01 01:01:27|            1.0|          1.1|       1.0|                 N|          43|         237|           1|        7.9|  1.0|    0.5|       4.0|         0.0|                  1.0|        16.9|                 2.5|        0.0|\n",
      "|       2| 2023-01-01 00:25:04|  2023-01-01 00:37:49|            1.0|         2.51|       1.0|                 N|          48|         238|           1|       14.9|  1.0|    0.5|      15.0|         0.0|                  1.0|        34.9|                 2.5|        0.0|\n",
      "|       1| 2023-01-01 00:03:48|  2023-01-01 00:13:25|            0.0|          1.9|       1.0|                 N|         138|           7|           1|       12.1| 7.25|    0.5|       0.0|         0.0|                  1.0|       20.85|                 0.0|       1.25|\n",
      "|       2| 2023-01-01 00:10:29|  2023-01-01 00:21:19|            1.0|         1.43|       1.0|                 N|         107|          79|           1|       11.4|  1.0|    0.5|      3.28|         0.0|                  1.0|       19.68|                 2.5|        0.0|\n",
      "|       2| 2023-01-01 00:50:34|  2023-01-01 01:02:52|            1.0|         1.84|       1.0|                 N|         161|         137|           1|       12.8|  1.0|    0.5|      10.0|         0.0|                  1.0|        27.8|                 2.5|        0.0|\n",
      "|       2| 2023-01-01 00:09:22|  2023-01-01 00:19:49|            1.0|         1.66|       1.0|                 N|         239|         143|           1|       12.1|  1.0|    0.5|      3.42|         0.0|                  1.0|       20.52|                 2.5|        0.0|\n",
      "|       2| 2023-01-01 00:27:12|  2023-01-01 00:49:56|            1.0|         11.7|       1.0|                 N|         142|         200|           1|       45.7|  1.0|    0.5|     10.74|         3.0|                  1.0|       64.44|                 2.5|        0.0|\n",
      "|       2| 2023-01-01 00:21:44|  2023-01-01 00:36:40|            1.0|         2.95|       1.0|                 N|         164|         236|           1|       17.7|  1.0|    0.5|      5.68|         0.0|                  1.0|       28.38|                 2.5|        0.0|\n",
      "|       2| 2023-01-01 00:39:42|  2023-01-01 00:50:36|            1.0|         3.01|       1.0|                 N|         141|         107|           2|       14.9|  1.0|    0.5|       0.0|         0.0|                  1.0|        19.9|                 2.5|        0.0|\n",
      "+--------+--------------------+---------------------+---------------+-------------+----------+------------------+------------+------------+------------+-----------+-----+-------+----------+------------+---------------------+------------+--------------------+-----------+\n",
      "only showing top 10 rows\n",
      "\n"
     ]
    },
    {
     "name": "stderr",
     "output_type": "stream",
     "text": [
      "                                                                                \r"
     ]
    }
   ],
   "source": [
    "# sdf = spark df = spark data frame\n",
    "sdf = spark.read.parquet('../../data/tlc_data/2023-01.parquet')\n",
    "sdf.show(10, vertical=False, truncate=200)"
   ]
  },
  {
   "cell_type": "code",
   "execution_count": 9,
   "metadata": {},
   "outputs": [
    {
     "name": "stdout",
     "output_type": "stream",
     "text": [
      "root\n",
      " |-- VendorID: long (nullable = true)\n",
      " |-- tpep_pickup_datetime: timestamp_ntz (nullable = true)\n",
      " |-- tpep_dropoff_datetime: timestamp_ntz (nullable = true)\n",
      " |-- passenger_count: double (nullable = true)\n",
      " |-- trip_distance: double (nullable = true)\n",
      " |-- RatecodeID: double (nullable = true)\n",
      " |-- store_and_fwd_flag: string (nullable = true)\n",
      " |-- PULocationID: long (nullable = true)\n",
      " |-- DOLocationID: long (nullable = true)\n",
      " |-- payment_type: long (nullable = true)\n",
      " |-- fare_amount: double (nullable = true)\n",
      " |-- extra: double (nullable = true)\n",
      " |-- mta_tax: double (nullable = true)\n",
      " |-- tip_amount: double (nullable = true)\n",
      " |-- tolls_amount: double (nullable = true)\n",
      " |-- improvement_surcharge: double (nullable = true)\n",
      " |-- total_amount: double (nullable = true)\n",
      " |-- congestion_surcharge: double (nullable = true)\n",
      " |-- airport_fee: double (nullable = true)\n",
      "\n"
     ]
    }
   ],
   "source": [
    "sdf.printSchema()"
   ]
  },
  {
   "cell_type": "markdown",
   "metadata": {},
   "source": [
    "The Spark UI is quite ugly at times, so if you miss `pandas` and want the \"nice\" display you can set `spark.sql.repl.eagerEval.enabled` to `True` in the config. To see the nice format, use `.limit()`.\n",
    "\n",
    "`pyspark`'s `.show()`, `.head()`, `.limit()`, etc are all alternatives to `pandas`'s `.head()` (`.tail` exists in both `pandas` and `pyspark`)."
   ]
  },
  {
   "cell_type": "code",
   "execution_count": 10,
   "metadata": {
    "ExecuteTime": {
     "end_time": "2023-07-24T04:03:02.224352Z",
     "start_time": "2023-07-24T04:02:59.918648Z"
    }
   },
   "outputs": [
    {
     "name": "stderr",
     "output_type": "stream",
     "text": [
      "                                                                                \r"
     ]
    },
    {
     "data": {
      "text/html": [
       "<table border='1'>\n",
       "<tr><th>VendorID</th><th>tpep_pickup_datetime</th><th>tpep_dropoff_datetime</th><th>passenger_count</th><th>trip_distance</th><th>RatecodeID</th><th>store_and_fwd_flag</th><th>PULocationID</th><th>DOLocationID</th><th>payment_type</th><th>fare_amount</th><th>extra</th><th>mta_tax</th><th>tip_amount</th><th>tolls_amount</th><th>improvement_surcharge</th><th>total_amount</th><th>congestion_surcharge</th><th>airport_fee</th></tr>\n",
       "<tr><td>2</td><td>2023-01-01 00:32:10</td><td>2023-01-01 00:40:36</td><td>1.0</td><td>0.97</td><td>1.0</td><td>N</td><td>161</td><td>141</td><td>2</td><td>9.3</td><td>1.0</td><td>0.5</td><td>0.0</td><td>0.0</td><td>1.0</td><td>14.3</td><td>2.5</td><td>0.0</td></tr>\n",
       "<tr><td>2</td><td>2023-01-01 00:55:08</td><td>2023-01-01 01:01:27</td><td>1.0</td><td>1.1</td><td>1.0</td><td>N</td><td>43</td><td>237</td><td>1</td><td>7.9</td><td>1.0</td><td>0.5</td><td>4.0</td><td>0.0</td><td>1.0</td><td>16.9</td><td>2.5</td><td>0.0</td></tr>\n",
       "<tr><td>2</td><td>2023-01-01 00:25:04</td><td>2023-01-01 00:37:49</td><td>1.0</td><td>2.51</td><td>1.0</td><td>N</td><td>48</td><td>238</td><td>1</td><td>14.9</td><td>1.0</td><td>0.5</td><td>15.0</td><td>0.0</td><td>1.0</td><td>34.9</td><td>2.5</td><td>0.0</td></tr>\n",
       "<tr><td>1</td><td>2023-01-01 00:03:48</td><td>2023-01-01 00:13:25</td><td>0.0</td><td>1.9</td><td>1.0</td><td>N</td><td>138</td><td>7</td><td>1</td><td>12.1</td><td>7.25</td><td>0.5</td><td>0.0</td><td>0.0</td><td>1.0</td><td>20.85</td><td>0.0</td><td>1.25</td></tr>\n",
       "<tr><td>2</td><td>2023-01-01 00:10:29</td><td>2023-01-01 00:21:19</td><td>1.0</td><td>1.43</td><td>1.0</td><td>N</td><td>107</td><td>79</td><td>1</td><td>11.4</td><td>1.0</td><td>0.5</td><td>3.28</td><td>0.0</td><td>1.0</td><td>19.68</td><td>2.5</td><td>0.0</td></tr>\n",
       "<tr><td>2</td><td>2023-01-01 00:50:34</td><td>2023-01-01 01:02:52</td><td>1.0</td><td>1.84</td><td>1.0</td><td>N</td><td>161</td><td>137</td><td>1</td><td>12.8</td><td>1.0</td><td>0.5</td><td>10.0</td><td>0.0</td><td>1.0</td><td>27.8</td><td>2.5</td><td>0.0</td></tr>\n",
       "<tr><td>2</td><td>2023-01-01 00:09:22</td><td>2023-01-01 00:19:49</td><td>1.0</td><td>1.66</td><td>1.0</td><td>N</td><td>239</td><td>143</td><td>1</td><td>12.1</td><td>1.0</td><td>0.5</td><td>3.42</td><td>0.0</td><td>1.0</td><td>20.52</td><td>2.5</td><td>0.0</td></tr>\n",
       "<tr><td>2</td><td>2023-01-01 00:27:12</td><td>2023-01-01 00:49:56</td><td>1.0</td><td>11.7</td><td>1.0</td><td>N</td><td>142</td><td>200</td><td>1</td><td>45.7</td><td>1.0</td><td>0.5</td><td>10.74</td><td>3.0</td><td>1.0</td><td>64.44</td><td>2.5</td><td>0.0</td></tr>\n",
       "<tr><td>2</td><td>2023-01-01 00:21:44</td><td>2023-01-01 00:36:40</td><td>1.0</td><td>2.95</td><td>1.0</td><td>N</td><td>164</td><td>236</td><td>1</td><td>17.7</td><td>1.0</td><td>0.5</td><td>5.68</td><td>0.0</td><td>1.0</td><td>28.38</td><td>2.5</td><td>0.0</td></tr>\n",
       "<tr><td>2</td><td>2023-01-01 00:39:42</td><td>2023-01-01 00:50:36</td><td>1.0</td><td>3.01</td><td>1.0</td><td>N</td><td>141</td><td>107</td><td>2</td><td>14.9</td><td>1.0</td><td>0.5</td><td>0.0</td><td>0.0</td><td>1.0</td><td>19.9</td><td>2.5</td><td>0.0</td></tr>\n",
       "<tr><td>2</td><td>2023-01-01 00:53:01</td><td>2023-01-01 01:01:45</td><td>1.0</td><td>1.8</td><td>1.0</td><td>N</td><td>234</td><td>68</td><td>1</td><td>11.4</td><td>1.0</td><td>0.5</td><td>3.28</td><td>0.0</td><td>1.0</td><td>19.68</td><td>2.5</td><td>0.0</td></tr>\n",
       "<tr><td>1</td><td>2023-01-01 00:43:37</td><td>2023-01-01 01:17:18</td><td>4.0</td><td>7.3</td><td>1.0</td><td>N</td><td>79</td><td>264</td><td>1</td><td>33.8</td><td>3.5</td><td>0.5</td><td>7.75</td><td>0.0</td><td>1.0</td><td>46.55</td><td>2.5</td><td>0.0</td></tr>\n",
       "<tr><td>2</td><td>2023-01-01 00:34:44</td><td>2023-01-01 01:04:25</td><td>1.0</td><td>3.23</td><td>1.0</td><td>N</td><td>164</td><td>143</td><td>1</td><td>26.1</td><td>1.0</td><td>0.5</td><td>6.22</td><td>0.0</td><td>1.0</td><td>37.32</td><td>2.5</td><td>0.0</td></tr>\n",
       "<tr><td>2</td><td>2023-01-01 00:09:29</td><td>2023-01-01 00:29:23</td><td>2.0</td><td>11.43</td><td>1.0</td><td>N</td><td>138</td><td>33</td><td>1</td><td>44.3</td><td>6.0</td><td>0.5</td><td>13.26</td><td>0.0</td><td>1.0</td><td>66.31</td><td>0.0</td><td>1.25</td></tr>\n",
       "<tr><td>2</td><td>2023-01-01 00:33:53</td><td>2023-01-01 00:49:15</td><td>1.0</td><td>2.95</td><td>1.0</td><td>N</td><td>33</td><td>61</td><td>1</td><td>17.7</td><td>1.0</td><td>0.5</td><td>4.04</td><td>0.0</td><td>1.0</td><td>24.24</td><td>0.0</td><td>0.0</td></tr>\n",
       "<tr><td>2</td><td>2023-01-01 00:13:04</td><td>2023-01-01 00:22:10</td><td>1.0</td><td>1.52</td><td>1.0</td><td>N</td><td>79</td><td>186</td><td>1</td><td>10.0</td><td>1.0</td><td>0.5</td><td>1.25</td><td>0.0</td><td>1.0</td><td>16.25</td><td>2.5</td><td>0.0</td></tr>\n",
       "<tr><td>2</td><td>2023-01-01 00:45:11</td><td>2023-01-01 01:07:39</td><td>1.0</td><td>2.23</td><td>1.0</td><td>N</td><td>90</td><td>48</td><td>1</td><td>19.8</td><td>1.0</td><td>0.5</td><td>4.96</td><td>0.0</td><td>1.0</td><td>29.76</td><td>2.5</td><td>0.0</td></tr>\n",
       "<tr><td>1</td><td>2023-01-01 00:04:33</td><td>2023-01-01 00:19:22</td><td>1.0</td><td>4.5</td><td>1.0</td><td>N</td><td>113</td><td>255</td><td>1</td><td>20.5</td><td>3.5</td><td>0.5</td><td>4.0</td><td>0.0</td><td>1.0</td><td>29.5</td><td>2.5</td><td>0.0</td></tr>\n",
       "<tr><td>1</td><td>2023-01-01 00:03:36</td><td>2023-01-01 00:09:36</td><td>3.0</td><td>1.2</td><td>1.0</td><td>N</td><td>237</td><td>239</td><td>2</td><td>8.6</td><td>3.5</td><td>0.5</td><td>0.0</td><td>0.0</td><td>1.0</td><td>13.6</td><td>2.5</td><td>0.0</td></tr>\n",
       "<tr><td>1</td><td>2023-01-01 00:15:23</td><td>2023-01-01 00:29:41</td><td>2.0</td><td>2.5</td><td>1.0</td><td>N</td><td>143</td><td>229</td><td>2</td><td>15.6</td><td>3.5</td><td>0.5</td><td>0.0</td><td>0.0</td><td>1.0</td><td>20.6</td><td>2.5</td><td>0.0</td></tr>\n",
       "</table>\n"
      ],
      "text/plain": [
       "+--------+--------------------+---------------------+---------------+-------------+----------+------------------+------------+------------+------------+-----------+-----+-------+----------+------------+---------------------+------------+--------------------+-----------+\n",
       "|VendorID|tpep_pickup_datetime|tpep_dropoff_datetime|passenger_count|trip_distance|RatecodeID|store_and_fwd_flag|PULocationID|DOLocationID|payment_type|fare_amount|extra|mta_tax|tip_amount|tolls_amount|improvement_surcharge|total_amount|congestion_surcharge|airport_fee|\n",
       "+--------+--------------------+---------------------+---------------+-------------+----------+------------------+------------+------------+------------+-----------+-----+-------+----------+------------+---------------------+------------+--------------------+-----------+\n",
       "|       2| 2023-01-01 00:32:10|  2023-01-01 00:40:36|            1.0|         0.97|       1.0|                 N|         161|         141|           2|        9.3|  1.0|    0.5|       0.0|         0.0|                  1.0|        14.3|                 2.5|        0.0|\n",
       "|       2| 2023-01-01 00:55:08|  2023-01-01 01:01:27|            1.0|          1.1|       1.0|                 N|          43|         237|           1|        7.9|  1.0|    0.5|       4.0|         0.0|                  1.0|        16.9|                 2.5|        0.0|\n",
       "|       2| 2023-01-01 00:25:04|  2023-01-01 00:37:49|            1.0|         2.51|       1.0|                 N|          48|         238|           1|       14.9|  1.0|    0.5|      15.0|         0.0|                  1.0|        34.9|                 2.5|        0.0|\n",
       "|       1| 2023-01-01 00:03:48|  2023-01-01 00:13:25|            0.0|          1.9|       1.0|                 N|         138|           7|           1|       12.1| 7.25|    0.5|       0.0|         0.0|                  1.0|       20.85|                 0.0|       1.25|\n",
       "|       2| 2023-01-01 00:10:29|  2023-01-01 00:21:19|            1.0|         1.43|       1.0|                 N|         107|          79|           1|       11.4|  1.0|    0.5|      3.28|         0.0|                  1.0|       19.68|                 2.5|        0.0|\n",
       "|       2| 2023-01-01 00:50:34|  2023-01-01 01:02:52|            1.0|         1.84|       1.0|                 N|         161|         137|           1|       12.8|  1.0|    0.5|      10.0|         0.0|                  1.0|        27.8|                 2.5|        0.0|\n",
       "|       2| 2023-01-01 00:09:22|  2023-01-01 00:19:49|            1.0|         1.66|       1.0|                 N|         239|         143|           1|       12.1|  1.0|    0.5|      3.42|         0.0|                  1.0|       20.52|                 2.5|        0.0|\n",
       "|       2| 2023-01-01 00:27:12|  2023-01-01 00:49:56|            1.0|         11.7|       1.0|                 N|         142|         200|           1|       45.7|  1.0|    0.5|     10.74|         3.0|                  1.0|       64.44|                 2.5|        0.0|\n",
       "|       2| 2023-01-01 00:21:44|  2023-01-01 00:36:40|            1.0|         2.95|       1.0|                 N|         164|         236|           1|       17.7|  1.0|    0.5|      5.68|         0.0|                  1.0|       28.38|                 2.5|        0.0|\n",
       "|       2| 2023-01-01 00:39:42|  2023-01-01 00:50:36|            1.0|         3.01|       1.0|                 N|         141|         107|           2|       14.9|  1.0|    0.5|       0.0|         0.0|                  1.0|        19.9|                 2.5|        0.0|\n",
       "|       2| 2023-01-01 00:53:01|  2023-01-01 01:01:45|            1.0|          1.8|       1.0|                 N|         234|          68|           1|       11.4|  1.0|    0.5|      3.28|         0.0|                  1.0|       19.68|                 2.5|        0.0|\n",
       "|       1| 2023-01-01 00:43:37|  2023-01-01 01:17:18|            4.0|          7.3|       1.0|                 N|          79|         264|           1|       33.8|  3.5|    0.5|      7.75|         0.0|                  1.0|       46.55|                 2.5|        0.0|\n",
       "|       2| 2023-01-01 00:34:44|  2023-01-01 01:04:25|            1.0|         3.23|       1.0|                 N|         164|         143|           1|       26.1|  1.0|    0.5|      6.22|         0.0|                  1.0|       37.32|                 2.5|        0.0|\n",
       "|       2| 2023-01-01 00:09:29|  2023-01-01 00:29:23|            2.0|        11.43|       1.0|                 N|         138|          33|           1|       44.3|  6.0|    0.5|     13.26|         0.0|                  1.0|       66.31|                 0.0|       1.25|\n",
       "|       2| 2023-01-01 00:33:53|  2023-01-01 00:49:15|            1.0|         2.95|       1.0|                 N|          33|          61|           1|       17.7|  1.0|    0.5|      4.04|         0.0|                  1.0|       24.24|                 0.0|        0.0|\n",
       "|       2| 2023-01-01 00:13:04|  2023-01-01 00:22:10|            1.0|         1.52|       1.0|                 N|          79|         186|           1|       10.0|  1.0|    0.5|      1.25|         0.0|                  1.0|       16.25|                 2.5|        0.0|\n",
       "|       2| 2023-01-01 00:45:11|  2023-01-01 01:07:39|            1.0|         2.23|       1.0|                 N|          90|          48|           1|       19.8|  1.0|    0.5|      4.96|         0.0|                  1.0|       29.76|                 2.5|        0.0|\n",
       "|       1| 2023-01-01 00:04:33|  2023-01-01 00:19:22|            1.0|          4.5|       1.0|                 N|         113|         255|           1|       20.5|  3.5|    0.5|       4.0|         0.0|                  1.0|        29.5|                 2.5|        0.0|\n",
       "|       1| 2023-01-01 00:03:36|  2023-01-01 00:09:36|            3.0|          1.2|       1.0|                 N|         237|         239|           2|        8.6|  3.5|    0.5|       0.0|         0.0|                  1.0|        13.6|                 2.5|        0.0|\n",
       "|       1| 2023-01-01 00:15:23|  2023-01-01 00:29:41|            2.0|          2.5|       1.0|                 N|         143|         229|           2|       15.6|  3.5|    0.5|       0.0|         0.0|                  1.0|        20.6|                 2.5|        0.0|\n",
       "+--------+--------------------+---------------------+---------------+-------------+----------+------------------+------------+------------+------------+-----------+-----+-------+----------+------------+---------------------+------------+--------------------+-----------+"
      ]
     },
     "execution_count": 10,
     "metadata": {},
     "output_type": "execute_result"
    }
   ],
   "source": [
    "sdf.limit(20)"
   ]
  },
  {
   "cell_type": "markdown",
   "metadata": {},
   "source": [
    "Spark has also been designed to read in directories as well! We won't be using it for the tutorial, but if you wish to use it for your project, feel free to do so!"
   ]
  },
  {
   "cell_type": "code",
   "execution_count": 11,
   "metadata": {
    "ExecuteTime": {
     "end_time": "2023-07-24T04:03:02.413366Z",
     "start_time": "2023-07-24T04:03:02.225507Z"
    }
   },
   "outputs": [],
   "source": [
    "# here, we give it the directory, rather than a specific parquet\n",
    "sdf_all = spark.read.parquet('../../data/tlc_data/')"
   ]
  },
  {
   "cell_type": "markdown",
   "metadata": {},
   "source": [
    "To count the number of records, use the `.count()` method. The equivalent in `pandas` would be `len(df)` or `df.shape` or alternative. "
   ]
  },
  {
   "cell_type": "code",
   "execution_count": 12,
   "metadata": {
    "ExecuteTime": {
     "end_time": "2023-07-24T04:03:05.617652Z",
     "start_time": "2023-07-24T04:03:04.487043Z"
    }
   },
   "outputs": [
    {
     "data": {
      "text/plain": [
       "(3066766, 31593944)"
      ]
     },
     "execution_count": 12,
     "metadata": {},
     "output_type": "execute_result"
    }
   ],
   "source": [
    "sdf.count(), sdf_all.count()"
   ]
  },
  {
   "cell_type": "markdown",
   "metadata": {},
   "source": [
    "To view the data types of our `sdf`, we can use:\n",
    "- `.printSchema()` to print it nicely.\n",
    "- `.schema` for the actual schema object\n",
    "\n",
    "The `pandas` alternative is `df.dtypes`"
   ]
  },
  {
   "cell_type": "code",
   "execution_count": 13,
   "metadata": {
    "ExecuteTime": {
     "end_time": "2023-07-24T04:03:05.638872Z",
     "start_time": "2023-07-24T04:03:05.619077Z"
    }
   },
   "outputs": [
    {
     "name": "stdout",
     "output_type": "stream",
     "text": [
      "root\n",
      " |-- VendorID: long (nullable = true)\n",
      " |-- tpep_pickup_datetime: timestamp_ntz (nullable = true)\n",
      " |-- tpep_dropoff_datetime: timestamp_ntz (nullable = true)\n",
      " |-- passenger_count: double (nullable = true)\n",
      " |-- trip_distance: double (nullable = true)\n",
      " |-- RatecodeID: double (nullable = true)\n",
      " |-- store_and_fwd_flag: string (nullable = true)\n",
      " |-- PULocationID: long (nullable = true)\n",
      " |-- DOLocationID: long (nullable = true)\n",
      " |-- payment_type: long (nullable = true)\n",
      " |-- fare_amount: double (nullable = true)\n",
      " |-- extra: double (nullable = true)\n",
      " |-- mta_tax: double (nullable = true)\n",
      " |-- tip_amount: double (nullable = true)\n",
      " |-- tolls_amount: double (nullable = true)\n",
      " |-- improvement_surcharge: double (nullable = true)\n",
      " |-- total_amount: double (nullable = true)\n",
      " |-- congestion_surcharge: double (nullable = true)\n",
      " |-- airport_fee: double (nullable = true)\n",
      "\n"
     ]
    }
   ],
   "source": [
    "sdf.printSchema()"
   ]
  },
  {
   "cell_type": "code",
   "execution_count": 14,
   "metadata": {
    "ExecuteTime": {
     "end_time": "2023-07-24T04:03:05.731117Z",
     "start_time": "2023-07-24T04:03:05.723079Z"
    }
   },
   "outputs": [
    {
     "data": {
      "text/plain": [
       "StructType([StructField('VendorID', LongType(), True), StructField('tpep_pickup_datetime', TimestampNTZType(), True), StructField('tpep_dropoff_datetime', TimestampNTZType(), True), StructField('passenger_count', DoubleType(), True), StructField('trip_distance', DoubleType(), True), StructField('RatecodeID', DoubleType(), True), StructField('store_and_fwd_flag', StringType(), True), StructField('PULocationID', LongType(), True), StructField('DOLocationID', LongType(), True), StructField('payment_type', LongType(), True), StructField('fare_amount', DoubleType(), True), StructField('extra', DoubleType(), True), StructField('mta_tax', DoubleType(), True), StructField('tip_amount', DoubleType(), True), StructField('tolls_amount', DoubleType(), True), StructField('improvement_surcharge', DoubleType(), True), StructField('total_amount', DoubleType(), True), StructField('congestion_surcharge', DoubleType(), True), StructField('airport_fee', DoubleType(), True)])"
      ]
     },
     "execution_count": 14,
     "metadata": {},
     "output_type": "execute_result"
    }
   ],
   "source": [
    "sdf.schema"
   ]
  },
  {
   "cell_type": "markdown",
   "metadata": {},
   "source": [
    "See here for the available data types: https://spark.apache.org/docs/latest/sql-ref-datatypes.html"
   ]
  },
  {
   "cell_type": "markdown",
   "metadata": {},
   "source": [
    "## Basic Operations\n",
    "### Selection\n",
    "To show a specific column, we will use `sdf.select(col).limit(5)`. \n",
    "- The equivalent in `pandas` is `df[col].head()`.\n",
    "\n",
    "To _access_ a specific column, use the `sdf[col]` syntax (equivalent to `df[col]`). Avoid using `sdf.col` or `df.col` as it is **not** robust (cannot handle columns with spaces) or future-proof. \n",
    "\n",
    "For multiple columns, pass them through an array as usual.\n",
    "\n",
    "Please note, this selection is only good for seeing bits and pieces of data and not for filtering."
   ]
  },
  {
   "cell_type": "code",
   "execution_count": 15,
   "metadata": {
    "ExecuteTime": {
     "end_time": "2023-07-24T04:03:09.238597Z",
     "start_time": "2023-07-24T04:03:08.260421Z"
    }
   },
   "outputs": [
    {
     "data": {
      "text/html": [
       "<table border='1'>\n",
       "<tr><th>passenger_count</th></tr>\n",
       "<tr><td>1.0</td></tr>\n",
       "<tr><td>1.0</td></tr>\n",
       "<tr><td>1.0</td></tr>\n",
       "<tr><td>0.0</td></tr>\n",
       "<tr><td>1.0</td></tr>\n",
       "<tr><td>1.0</td></tr>\n",
       "<tr><td>1.0</td></tr>\n",
       "<tr><td>1.0</td></tr>\n",
       "<tr><td>1.0</td></tr>\n",
       "<tr><td>1.0</td></tr>\n",
       "<tr><td>1.0</td></tr>\n",
       "<tr><td>4.0</td></tr>\n",
       "<tr><td>1.0</td></tr>\n",
       "<tr><td>2.0</td></tr>\n",
       "<tr><td>1.0</td></tr>\n",
       "<tr><td>1.0</td></tr>\n",
       "<tr><td>1.0</td></tr>\n",
       "<tr><td>1.0</td></tr>\n",
       "<tr><td>3.0</td></tr>\n",
       "<tr><td>2.0</td></tr>\n",
       "</table>\n",
       "only showing top 20 rows\n"
      ],
      "text/plain": [
       "+---------------+\n",
       "|passenger_count|\n",
       "+---------------+\n",
       "|            1.0|\n",
       "|            1.0|\n",
       "|            1.0|\n",
       "|            0.0|\n",
       "|            1.0|\n",
       "|            1.0|\n",
       "|            1.0|\n",
       "|            1.0|\n",
       "|            1.0|\n",
       "|            1.0|\n",
       "|            1.0|\n",
       "|            4.0|\n",
       "|            1.0|\n",
       "|            2.0|\n",
       "|            1.0|\n",
       "|            1.0|\n",
       "|            1.0|\n",
       "|            1.0|\n",
       "|            3.0|\n",
       "|            2.0|\n",
       "+---------------+\n",
       "only showing top 20 rows"
      ]
     },
     "execution_count": 15,
     "metadata": {},
     "output_type": "execute_result"
    }
   ],
   "source": [
    "sdf.select('passenger_count')"
   ]
  },
  {
   "cell_type": "code",
   "execution_count": 16,
   "metadata": {},
   "outputs": [
    {
     "data": {
      "text/html": [
       "<table border='1'>\n",
       "<tr><th>passenger_count</th></tr>\n",
       "<tr><td>1.0</td></tr>\n",
       "<tr><td>1.0</td></tr>\n",
       "<tr><td>1.0</td></tr>\n",
       "<tr><td>0.0</td></tr>\n",
       "<tr><td>1.0</td></tr>\n",
       "<tr><td>1.0</td></tr>\n",
       "<tr><td>1.0</td></tr>\n",
       "<tr><td>1.0</td></tr>\n",
       "<tr><td>1.0</td></tr>\n",
       "<tr><td>1.0</td></tr>\n",
       "</table>\n"
      ],
      "text/plain": [
       "+---------------+\n",
       "|passenger_count|\n",
       "+---------------+\n",
       "|            1.0|\n",
       "|            1.0|\n",
       "|            1.0|\n",
       "|            0.0|\n",
       "|            1.0|\n",
       "|            1.0|\n",
       "|            1.0|\n",
       "|            1.0|\n",
       "|            1.0|\n",
       "|            1.0|\n",
       "+---------------+"
      ]
     },
     "execution_count": 16,
     "metadata": {},
     "output_type": "execute_result"
    }
   ],
   "source": [
    "sdf.select('passenger_count').limit(10)"
   ]
  },
  {
   "cell_type": "markdown",
   "metadata": {},
   "source": [
    "_Students to write code to select the first 10 records for `passenger_count` and `trip_distance`_"
   ]
  },
  {
   "cell_type": "code",
   "execution_count": 17,
   "metadata": {
    "ExecuteTime": {
     "end_time": "2023-07-24T04:03:13.527228Z",
     "start_time": "2023-07-24T04:03:12.397628Z"
    }
   },
   "outputs": [
    {
     "data": {
      "text/html": [
       "<table border='1'>\n",
       "<tr><th>passenger_count</th><th>trip_distance</th></tr>\n",
       "<tr><td>1.0</td><td>0.97</td></tr>\n",
       "<tr><td>1.0</td><td>1.1</td></tr>\n",
       "<tr><td>1.0</td><td>2.51</td></tr>\n",
       "<tr><td>0.0</td><td>1.9</td></tr>\n",
       "<tr><td>1.0</td><td>1.43</td></tr>\n",
       "<tr><td>1.0</td><td>1.84</td></tr>\n",
       "<tr><td>1.0</td><td>1.66</td></tr>\n",
       "<tr><td>1.0</td><td>11.7</td></tr>\n",
       "<tr><td>1.0</td><td>2.95</td></tr>\n",
       "<tr><td>1.0</td><td>3.01</td></tr>\n",
       "</table>\n"
      ],
      "text/plain": [
       "+---------------+-------------+\n",
       "|passenger_count|trip_distance|\n",
       "+---------------+-------------+\n",
       "|            1.0|         0.97|\n",
       "|            1.0|          1.1|\n",
       "|            1.0|         2.51|\n",
       "|            0.0|          1.9|\n",
       "|            1.0|         1.43|\n",
       "|            1.0|         1.84|\n",
       "|            1.0|         1.66|\n",
       "|            1.0|         11.7|\n",
       "|            1.0|         2.95|\n",
       "|            1.0|         3.01|\n",
       "+---------------+-------------+"
      ]
     },
     "execution_count": 17,
     "metadata": {},
     "output_type": "execute_result"
    }
   ],
   "source": [
    "# write code here to select the first 10 records for `passenger_count` and `trip_distance`\n",
    "sdf.select('passenger_count', 'trip_distance').limit(10)"
   ]
  },
  {
   "cell_type": "markdown",
   "metadata": {},
   "source": [
    "### Filtering\n",
    "For filtering data, we use `sdf.filter(condition)` or `sdf.where(condition)` (they are aliases of each other)\n",
    "- The equivalent in `pandas` is `df.loc[condition].head()`\n",
    "- When using multiple conditions, use parenthesis and `&` (AND) / `|` (OR)\n",
    "\n",
    "To do so, we will use `pyspark.sql.functions.col` to specify the column we are working with."
   ]
  },
  {
   "cell_type": "code",
   "execution_count": 18,
   "metadata": {
    "ExecuteTime": {
     "end_time": "2023-07-24T04:03:15.415531Z",
     "start_time": "2023-07-24T04:03:15.391510Z"
    }
   },
   "outputs": [],
   "source": [
    "from pyspark.sql import functions as F"
   ]
  },
  {
   "cell_type": "code",
   "execution_count": 19,
   "metadata": {
    "ExecuteTime": {
     "end_time": "2023-07-24T04:03:15.932836Z",
     "start_time": "2023-07-24T04:03:15.595811Z"
    }
   },
   "outputs": [
    {
     "data": {
      "text/plain": [
       "Column<'passenger_count'>"
      ]
     },
     "execution_count": 19,
     "metadata": {},
     "output_type": "execute_result"
    }
   ],
   "source": [
    "F.col(\"passenger_count\")"
   ]
  },
  {
   "cell_type": "markdown",
   "metadata": {},
   "source": [
    "As you can see, this is just a \"column type\" and doesn't do much. We'll come back to this in the next tutorial. For now, take our word."
   ]
  },
  {
   "cell_type": "code",
   "execution_count": 20,
   "metadata": {
    "ExecuteTime": {
     "end_time": "2023-07-24T04:03:18.276168Z",
     "start_time": "2023-07-24T04:03:16.125585Z"
    }
   },
   "outputs": [
    {
     "data": {
      "text/html": [
       "<table border='1'>\n",
       "<tr><th>VendorID</th><th>tpep_pickup_datetime</th><th>tpep_dropoff_datetime</th><th>passenger_count</th><th>trip_distance</th><th>RatecodeID</th><th>store_and_fwd_flag</th><th>PULocationID</th><th>DOLocationID</th><th>payment_type</th><th>fare_amount</th><th>extra</th><th>mta_tax</th><th>tip_amount</th><th>tolls_amount</th><th>improvement_surcharge</th><th>total_amount</th><th>congestion_surcharge</th><th>airport_fee</th></tr>\n",
       "<tr><td>2</td><td>2023-01-01 00:15:13</td><td>2023-01-01 00:24:45</td><td>5.0</td><td>1.3</td><td>1.0</td><td>N</td><td>79</td><td>170</td><td>1</td><td>10.7</td><td>1.0</td><td>0.5</td><td>3.14</td><td>0.0</td><td>1.0</td><td>18.84</td><td>2.5</td><td>0.0</td></tr>\n",
       "<tr><td>2</td><td>2023-01-01 00:30:31</td><td>2023-01-01 00:47:03</td><td>5.0</td><td>2.32</td><td>1.0</td><td>N</td><td>170</td><td>43</td><td>1</td><td>16.3</td><td>1.0</td><td>0.5</td><td>5.32</td><td>0.0</td><td>1.0</td><td>26.62</td><td>2.5</td><td>0.0</td></tr>\n",
       "<tr><td>2</td><td>2023-01-01 00:47:59</td><td>2023-01-01 01:16:34</td><td>5.0</td><td>2.35</td><td>1.0</td><td>N</td><td>43</td><td>233</td><td>1</td><td>23.3</td><td>1.0</td><td>0.5</td><td>5.66</td><td>0.0</td><td>1.0</td><td>33.96</td><td>2.5</td><td>0.0</td></tr>\n",
       "<tr><td>2</td><td>2023-01-01 00:14:31</td><td>2023-01-01 00:42:18</td><td>5.0</td><td>4.23</td><td>1.0</td><td>N</td><td>79</td><td>50</td><td>1</td><td>28.2</td><td>1.0</td><td>0.5</td><td>3.35</td><td>0.0</td><td>1.0</td><td>36.55</td><td>2.5</td><td>0.0</td></tr>\n",
       "<tr><td>2</td><td>2023-01-01 00:45:27</td><td>2023-01-01 01:00:03</td><td>5.0</td><td>3.09</td><td>1.0</td><td>N</td><td>48</td><td>151</td><td>2</td><td>17.0</td><td>1.0</td><td>0.5</td><td>0.0</td><td>0.0</td><td>1.0</td><td>22.0</td><td>2.5</td><td>0.0</td></tr>\n",
       "<tr><td>2</td><td>2023-01-01 00:27:19</td><td>2023-01-01 00:33:59</td><td>5.0</td><td>1.11</td><td>1.0</td><td>N</td><td>164</td><td>162</td><td>1</td><td>7.9</td><td>1.0</td><td>0.5</td><td>2.58</td><td>0.0</td><td>1.0</td><td>15.48</td><td>2.5</td><td>0.0</td></tr>\n",
       "<tr><td>2</td><td>2023-01-01 00:36:08</td><td>2023-01-01 00:49:39</td><td>5.0</td><td>1.08</td><td>1.0</td><td>N</td><td>162</td><td>164</td><td>1</td><td>12.8</td><td>1.0</td><td>0.5</td><td>1.0</td><td>0.0</td><td>1.0</td><td>18.8</td><td>2.5</td><td>0.0</td></tr>\n",
       "<tr><td>2</td><td>2023-01-01 00:42:20</td><td>2023-01-01 00:45:15</td><td>5.0</td><td>0.58</td><td>1.0</td><td>N</td><td>137</td><td>107</td><td>1</td><td>5.1</td><td>1.0</td><td>0.5</td><td>2.02</td><td>0.0</td><td>1.0</td><td>12.12</td><td>2.5</td><td>0.0</td></tr>\n",
       "<tr><td>2</td><td>2023-01-01 00:08:20</td><td>2023-01-01 00:26:44</td><td>5.0</td><td>5.43</td><td>1.0</td><td>N</td><td>239</td><td>226</td><td>1</td><td>24.7</td><td>1.0</td><td>0.5</td><td>7.42</td><td>0.0</td><td>1.0</td><td>37.12</td><td>2.5</td><td>0.0</td></tr>\n",
       "<tr><td>2</td><td>2023-01-01 00:14:15</td><td>2023-01-01 00:43:57</td><td>5.0</td><td>4.73</td><td>1.0</td><td>N</td><td>249</td><td>238</td><td>1</td><td>31.0</td><td>1.0</td><td>0.5</td><td>7.2</td><td>0.0</td><td>1.0</td><td>43.2</td><td>2.5</td><td>0.0</td></tr>\n",
       "<tr><td>2</td><td>2023-01-01 00:53:35</td><td>2023-01-01 01:04:17</td><td>5.0</td><td>1.05</td><td>1.0</td><td>N</td><td>142</td><td>48</td><td>1</td><td>10.7</td><td>1.0</td><td>0.5</td><td>1.0</td><td>0.0</td><td>1.0</td><td>16.7</td><td>2.5</td><td>0.0</td></tr>\n",
       "<tr><td>2</td><td>2023-01-01 00:16:41</td><td>2023-01-01 00:41:24</td><td>5.0</td><td>4.37</td><td>1.0</td><td>N</td><td>237</td><td>231</td><td>1</td><td>25.4</td><td>1.0</td><td>0.5</td><td>6.08</td><td>0.0</td><td>1.0</td><td>36.48</td><td>2.5</td><td>0.0</td></tr>\n",
       "<tr><td>2</td><td>2023-01-01 00:45:01</td><td>2023-01-01 01:16:15</td><td>5.0</td><td>4.46</td><td>1.0</td><td>N</td><td>231</td><td>142</td><td>1</td><td>28.9</td><td>1.0</td><td>0.5</td><td>6.78</td><td>0.0</td><td>1.0</td><td>40.68</td><td>2.5</td><td>0.0</td></tr>\n",
       "<tr><td>2</td><td>2023-01-01 00:43:50</td><td>2023-01-01 01:10:07</td><td>5.0</td><td>9.29</td><td>1.0</td><td>N</td><td>151</td><td>209</td><td>1</td><td>40.8</td><td>1.0</td><td>0.5</td><td>5.99</td><td>0.0</td><td>1.0</td><td>51.79</td><td>2.5</td><td>0.0</td></tr>\n",
       "<tr><td>2</td><td>2023-01-01 00:12:36</td><td>2023-01-01 00:37:39</td><td>5.0</td><td>5.64</td><td>1.0</td><td>N</td><td>79</td><td>238</td><td>1</td><td>28.2</td><td>1.0</td><td>0.5</td><td>8.3</td><td>0.0</td><td>1.0</td><td>41.5</td><td>2.5</td><td>0.0</td></tr>\n",
       "</table>\n"
      ],
      "text/plain": [
       "+--------+--------------------+---------------------+---------------+-------------+----------+------------------+------------+------------+------------+-----------+-----+-------+----------+------------+---------------------+------------+--------------------+-----------+\n",
       "|VendorID|tpep_pickup_datetime|tpep_dropoff_datetime|passenger_count|trip_distance|RatecodeID|store_and_fwd_flag|PULocationID|DOLocationID|payment_type|fare_amount|extra|mta_tax|tip_amount|tolls_amount|improvement_surcharge|total_amount|congestion_surcharge|airport_fee|\n",
       "+--------+--------------------+---------------------+---------------+-------------+----------+------------------+------------+------------+------------+-----------+-----+-------+----------+------------+---------------------+------------+--------------------+-----------+\n",
       "|       2| 2023-01-01 00:15:13|  2023-01-01 00:24:45|            5.0|          1.3|       1.0|                 N|          79|         170|           1|       10.7|  1.0|    0.5|      3.14|         0.0|                  1.0|       18.84|                 2.5|        0.0|\n",
       "|       2| 2023-01-01 00:30:31|  2023-01-01 00:47:03|            5.0|         2.32|       1.0|                 N|         170|          43|           1|       16.3|  1.0|    0.5|      5.32|         0.0|                  1.0|       26.62|                 2.5|        0.0|\n",
       "|       2| 2023-01-01 00:47:59|  2023-01-01 01:16:34|            5.0|         2.35|       1.0|                 N|          43|         233|           1|       23.3|  1.0|    0.5|      5.66|         0.0|                  1.0|       33.96|                 2.5|        0.0|\n",
       "|       2| 2023-01-01 00:14:31|  2023-01-01 00:42:18|            5.0|         4.23|       1.0|                 N|          79|          50|           1|       28.2|  1.0|    0.5|      3.35|         0.0|                  1.0|       36.55|                 2.5|        0.0|\n",
       "|       2| 2023-01-01 00:45:27|  2023-01-01 01:00:03|            5.0|         3.09|       1.0|                 N|          48|         151|           2|       17.0|  1.0|    0.5|       0.0|         0.0|                  1.0|        22.0|                 2.5|        0.0|\n",
       "|       2| 2023-01-01 00:27:19|  2023-01-01 00:33:59|            5.0|         1.11|       1.0|                 N|         164|         162|           1|        7.9|  1.0|    0.5|      2.58|         0.0|                  1.0|       15.48|                 2.5|        0.0|\n",
       "|       2| 2023-01-01 00:36:08|  2023-01-01 00:49:39|            5.0|         1.08|       1.0|                 N|         162|         164|           1|       12.8|  1.0|    0.5|       1.0|         0.0|                  1.0|        18.8|                 2.5|        0.0|\n",
       "|       2| 2023-01-01 00:42:20|  2023-01-01 00:45:15|            5.0|         0.58|       1.0|                 N|         137|         107|           1|        5.1|  1.0|    0.5|      2.02|         0.0|                  1.0|       12.12|                 2.5|        0.0|\n",
       "|       2| 2023-01-01 00:08:20|  2023-01-01 00:26:44|            5.0|         5.43|       1.0|                 N|         239|         226|           1|       24.7|  1.0|    0.5|      7.42|         0.0|                  1.0|       37.12|                 2.5|        0.0|\n",
       "|       2| 2023-01-01 00:14:15|  2023-01-01 00:43:57|            5.0|         4.73|       1.0|                 N|         249|         238|           1|       31.0|  1.0|    0.5|       7.2|         0.0|                  1.0|        43.2|                 2.5|        0.0|\n",
       "|       2| 2023-01-01 00:53:35|  2023-01-01 01:04:17|            5.0|         1.05|       1.0|                 N|         142|          48|           1|       10.7|  1.0|    0.5|       1.0|         0.0|                  1.0|        16.7|                 2.5|        0.0|\n",
       "|       2| 2023-01-01 00:16:41|  2023-01-01 00:41:24|            5.0|         4.37|       1.0|                 N|         237|         231|           1|       25.4|  1.0|    0.5|      6.08|         0.0|                  1.0|       36.48|                 2.5|        0.0|\n",
       "|       2| 2023-01-01 00:45:01|  2023-01-01 01:16:15|            5.0|         4.46|       1.0|                 N|         231|         142|           1|       28.9|  1.0|    0.5|      6.78|         0.0|                  1.0|       40.68|                 2.5|        0.0|\n",
       "|       2| 2023-01-01 00:43:50|  2023-01-01 01:10:07|            5.0|         9.29|       1.0|                 N|         151|         209|           1|       40.8|  1.0|    0.5|      5.99|         0.0|                  1.0|       51.79|                 2.5|        0.0|\n",
       "|       2| 2023-01-01 00:12:36|  2023-01-01 00:37:39|            5.0|         5.64|       1.0|                 N|          79|         238|           1|       28.2|  1.0|    0.5|       8.3|         0.0|                  1.0|        41.5|                 2.5|        0.0|\n",
       "+--------+--------------------+---------------------+---------------+-------------+----------+------------------+------------+------------+------------+-----------+-----+-------+----------+------------+---------------------+------------+--------------------+-----------+"
      ]
     },
     "execution_count": 20,
     "metadata": {},
     "output_type": "execute_result"
    }
   ],
   "source": [
    "sdf.filter(F.col('passenger_count') == 5).limit(15)"
   ]
  },
  {
   "cell_type": "markdown",
   "metadata": {},
   "source": [
    "_Students to write code to retrieve all non-zero passenger counts and all non-zero trip distances using `.filter()`_"
   ]
  },
  {
   "cell_type": "code",
   "execution_count": 21,
   "metadata": {
    "ExecuteTime": {
     "end_time": "2023-07-24T04:03:19.219000Z",
     "start_time": "2023-07-24T04:03:18.277699Z"
    }
   },
   "outputs": [
    {
     "name": "stderr",
     "output_type": "stream",
     "text": [
      "                                                                                \r"
     ]
    },
    {
     "data": {
      "text/html": [
       "<table border='1'>\n",
       "<tr><th>VendorID</th><th>tpep_pickup_datetime</th><th>tpep_dropoff_datetime</th><th>passenger_count</th><th>trip_distance</th><th>RatecodeID</th><th>store_and_fwd_flag</th><th>PULocationID</th><th>DOLocationID</th><th>payment_type</th><th>fare_amount</th><th>extra</th><th>mta_tax</th><th>tip_amount</th><th>tolls_amount</th><th>improvement_surcharge</th><th>total_amount</th><th>congestion_surcharge</th><th>airport_fee</th></tr>\n",
       "<tr><td>1</td><td>2023-01-01 00:03:48</td><td>2023-01-01 00:13:25</td><td>0.0</td><td>1.9</td><td>1.0</td><td>N</td><td>138</td><td>7</td><td>1</td><td>12.1</td><td>7.25</td><td>0.5</td><td>0.0</td><td>0.0</td><td>1.0</td><td>20.85</td><td>0.0</td><td>1.25</td></tr>\n",
       "<tr><td>1</td><td>2023-01-01 00:22:18</td><td>2023-01-01 00:28:17</td><td>0.0</td><td>1.3</td><td>1.0</td><td>N</td><td>170</td><td>107</td><td>1</td><td>8.6</td><td>3.5</td><td>0.5</td><td>2.7</td><td>0.0</td><td>1.0</td><td>16.3</td><td>2.5</td><td>0.0</td></tr>\n",
       "<tr><td>1</td><td>2023-01-01 00:30:59</td><td>2023-01-01 00:34:46</td><td>0.0</td><td>1.0</td><td>1.0</td><td>N</td><td>79</td><td>107</td><td>1</td><td>6.5</td><td>3.5</td><td>0.5</td><td>2.3</td><td>0.0</td><td>1.0</td><td>13.8</td><td>2.5</td><td>0.0</td></tr>\n",
       "<tr><td>1</td><td>2023-01-01 00:36:19</td><td>2023-01-01 00:43:46</td><td>0.0</td><td>2.3</td><td>1.0</td><td>N</td><td>107</td><td>232</td><td>1</td><td>11.4</td><td>3.5</td><td>0.5</td><td>3.25</td><td>0.0</td><td>1.0</td><td>19.65</td><td>2.5</td><td>0.0</td></tr>\n",
       "<tr><td>1</td><td>2023-01-01 00:54:23</td><td>2023-01-01 01:08:18</td><td>0.0</td><td>2.1</td><td>1.0</td><td>N</td><td>79</td><td>231</td><td>2</td><td>12.8</td><td>3.5</td><td>0.5</td><td>0.0</td><td>0.0</td><td>1.0</td><td>17.8</td><td>2.5</td><td>0.0</td></tr>\n",
       "<tr><td>1</td><td>2023-01-01 00:14:15</td><td>2023-01-01 00:22:39</td><td>0.0</td><td>1.6</td><td>1.0</td><td>N</td><td>231</td><td>114</td><td>1</td><td>10.0</td><td>3.5</td><td>0.5</td><td>3.75</td><td>0.0</td><td>1.0</td><td>18.75</td><td>2.5</td><td>0.0</td></tr>\n",
       "<tr><td>1</td><td>2023-01-01 00:31:08</td><td>2023-01-01 00:47:51</td><td>0.0</td><td>2.3</td><td>1.0</td><td>N</td><td>234</td><td>246</td><td>2</td><td>14.2</td><td>3.5</td><td>0.5</td><td>0.0</td><td>0.0</td><td>1.0</td><td>19.2</td><td>2.5</td><td>0.0</td></tr>\n",
       "<tr><td>1</td><td>2023-01-01 00:58:49</td><td>2023-01-01 01:04:32</td><td>0.0</td><td>0.7</td><td>1.0</td><td>N</td><td>186</td><td>234</td><td>1</td><td>6.5</td><td>3.5</td><td>0.5</td><td>2.3</td><td>0.0</td><td>1.0</td><td>13.8</td><td>2.5</td><td>0.0</td></tr>\n",
       "<tr><td>1</td><td>2023-01-01 00:23:26</td><td>2023-01-01 00:44:15</td><td>0.0</td><td>2.9</td><td>1.0</td><td>N</td><td>249</td><td>246</td><td>1</td><td>21.2</td><td>3.5</td><td>0.5</td><td>5.2</td><td>0.0</td><td>1.0</td><td>31.4</td><td>2.5</td><td>0.0</td></tr>\n",
       "<tr><td>1</td><td>2023-01-01 00:47:17</td><td>2023-01-01 01:16:03</td><td>0.0</td><td>5.8</td><td>1.0</td><td>N</td><td>48</td><td>166</td><td>1</td><td>34.5</td><td>3.5</td><td>0.5</td><td>7.9</td><td>0.0</td><td>1.0</td><td>47.4</td><td>2.5</td><td>0.0</td></tr>\n",
       "<tr><td>1</td><td>2023-01-01 00:17:57</td><td>2023-01-01 00:25:52</td><td>0.0</td><td>2.7</td><td>1.0</td><td>N</td><td>137</td><td>141</td><td>1</td><td>12.8</td><td>3.5</td><td>0.5</td><td>3.55</td><td>0.0</td><td>1.0</td><td>21.35</td><td>2.5</td><td>0.0</td></tr>\n",
       "<tr><td>1</td><td>2023-01-01 00:15:05</td><td>2023-01-01 00:32:57</td><td>0.0</td><td>2.2</td><td>1.0</td><td>N</td><td>113</td><td>162</td><td>2</td><td>14.9</td><td>3.5</td><td>0.5</td><td>0.0</td><td>0.0</td><td>1.0</td><td>19.9</td><td>2.5</td><td>0.0</td></tr>\n",
       "<tr><td>1</td><td>2023-01-01 00:43:53</td><td>2023-01-01 00:59:48</td><td>0.0</td><td>1.5</td><td>1.0</td><td>N</td><td>162</td><td>142</td><td>1</td><td>12.8</td><td>3.5</td><td>0.5</td><td>4.45</td><td>0.0</td><td>1.0</td><td>22.25</td><td>2.5</td><td>0.0</td></tr>\n",
       "<tr><td>1</td><td>2023-01-01 00:58:05</td><td>2023-01-01 01:23:56</td><td>0.0</td><td>8.6</td><td>1.0</td><td>N</td><td>132</td><td>35</td><td>2</td><td>34.5</td><td>2.25</td><td>0.5</td><td>0.0</td><td>0.0</td><td>1.0</td><td>38.25</td><td>0.0</td><td>1.25</td></tr>\n",
       "<tr><td>1</td><td>2023-01-01 00:56:10</td><td>2023-01-01 01:08:18</td><td>0.0</td><td>2.0</td><td>1.0</td><td>N</td><td>148</td><td>264</td><td>1</td><td>13.5</td><td>3.5</td><td>0.5</td><td>3.7</td><td>0.0</td><td>1.0</td><td>22.2</td><td>2.5</td><td>0.0</td></tr>\n",
       "</table>\n"
      ],
      "text/plain": [
       "+--------+--------------------+---------------------+---------------+-------------+----------+------------------+------------+------------+------------+-----------+-----+-------+----------+------------+---------------------+------------+--------------------+-----------+\n",
       "|VendorID|tpep_pickup_datetime|tpep_dropoff_datetime|passenger_count|trip_distance|RatecodeID|store_and_fwd_flag|PULocationID|DOLocationID|payment_type|fare_amount|extra|mta_tax|tip_amount|tolls_amount|improvement_surcharge|total_amount|congestion_surcharge|airport_fee|\n",
       "+--------+--------------------+---------------------+---------------+-------------+----------+------------------+------------+------------+------------+-----------+-----+-------+----------+------------+---------------------+------------+--------------------+-----------+\n",
       "|       1| 2023-01-01 00:03:48|  2023-01-01 00:13:25|            0.0|          1.9|       1.0|                 N|         138|           7|           1|       12.1| 7.25|    0.5|       0.0|         0.0|                  1.0|       20.85|                 0.0|       1.25|\n",
       "|       1| 2023-01-01 00:22:18|  2023-01-01 00:28:17|            0.0|          1.3|       1.0|                 N|         170|         107|           1|        8.6|  3.5|    0.5|       2.7|         0.0|                  1.0|        16.3|                 2.5|        0.0|\n",
       "|       1| 2023-01-01 00:30:59|  2023-01-01 00:34:46|            0.0|          1.0|       1.0|                 N|          79|         107|           1|        6.5|  3.5|    0.5|       2.3|         0.0|                  1.0|        13.8|                 2.5|        0.0|\n",
       "|       1| 2023-01-01 00:36:19|  2023-01-01 00:43:46|            0.0|          2.3|       1.0|                 N|         107|         232|           1|       11.4|  3.5|    0.5|      3.25|         0.0|                  1.0|       19.65|                 2.5|        0.0|\n",
       "|       1| 2023-01-01 00:54:23|  2023-01-01 01:08:18|            0.0|          2.1|       1.0|                 N|          79|         231|           2|       12.8|  3.5|    0.5|       0.0|         0.0|                  1.0|        17.8|                 2.5|        0.0|\n",
       "|       1| 2023-01-01 00:14:15|  2023-01-01 00:22:39|            0.0|          1.6|       1.0|                 N|         231|         114|           1|       10.0|  3.5|    0.5|      3.75|         0.0|                  1.0|       18.75|                 2.5|        0.0|\n",
       "|       1| 2023-01-01 00:31:08|  2023-01-01 00:47:51|            0.0|          2.3|       1.0|                 N|         234|         246|           2|       14.2|  3.5|    0.5|       0.0|         0.0|                  1.0|        19.2|                 2.5|        0.0|\n",
       "|       1| 2023-01-01 00:58:49|  2023-01-01 01:04:32|            0.0|          0.7|       1.0|                 N|         186|         234|           1|        6.5|  3.5|    0.5|       2.3|         0.0|                  1.0|        13.8|                 2.5|        0.0|\n",
       "|       1| 2023-01-01 00:23:26|  2023-01-01 00:44:15|            0.0|          2.9|       1.0|                 N|         249|         246|           1|       21.2|  3.5|    0.5|       5.2|         0.0|                  1.0|        31.4|                 2.5|        0.0|\n",
       "|       1| 2023-01-01 00:47:17|  2023-01-01 01:16:03|            0.0|          5.8|       1.0|                 N|          48|         166|           1|       34.5|  3.5|    0.5|       7.9|         0.0|                  1.0|        47.4|                 2.5|        0.0|\n",
       "|       1| 2023-01-01 00:17:57|  2023-01-01 00:25:52|            0.0|          2.7|       1.0|                 N|         137|         141|           1|       12.8|  3.5|    0.5|      3.55|         0.0|                  1.0|       21.35|                 2.5|        0.0|\n",
       "|       1| 2023-01-01 00:15:05|  2023-01-01 00:32:57|            0.0|          2.2|       1.0|                 N|         113|         162|           2|       14.9|  3.5|    0.5|       0.0|         0.0|                  1.0|        19.9|                 2.5|        0.0|\n",
       "|       1| 2023-01-01 00:43:53|  2023-01-01 00:59:48|            0.0|          1.5|       1.0|                 N|         162|         142|           1|       12.8|  3.5|    0.5|      4.45|         0.0|                  1.0|       22.25|                 2.5|        0.0|\n",
       "|       1| 2023-01-01 00:58:05|  2023-01-01 01:23:56|            0.0|          8.6|       1.0|                 N|         132|          35|           2|       34.5| 2.25|    0.5|       0.0|         0.0|                  1.0|       38.25|                 0.0|       1.25|\n",
       "|       1| 2023-01-01 00:56:10|  2023-01-01 01:08:18|            0.0|          2.0|       1.0|                 N|         148|         264|           1|       13.5|  3.5|    0.5|       3.7|         0.0|                  1.0|        22.2|                 2.5|        0.0|\n",
       "+--------+--------------------+---------------------+---------------+-------------+----------+------------------+------------+------------+------------+-----------+-----+-------+----------+------------+---------------------+------------+--------------------+-----------+"
      ]
     },
     "execution_count": 21,
     "metadata": {},
     "output_type": "execute_result"
    }
   ],
   "source": [
    "# write code here to retrieve all non-zero passenger counts and all non-zero trip distances using filter()\n",
    "sdf.filter((F.col('passenger_count') == 0) & (F.col('trip_distance') != 0)).limit(15)"
   ]
  },
  {
   "cell_type": "markdown",
   "metadata": {},
   "source": [
    "### GroupBy (Aggregation)\n",
    "To groupby the data (i.e mean), we can use `sdf.groupby(col).mean(aggregated columns).limit(5)`\n",
    "- The equivalent in `pandas` is `df.groupby(col)[aggregated columns].mean().head()`"
   ]
  },
  {
   "cell_type": "code",
   "execution_count": 22,
   "metadata": {
    "ExecuteTime": {
     "end_time": "2023-07-24T04:03:23.940677Z",
     "start_time": "2023-07-24T04:03:21.475197Z"
    }
   },
   "outputs": [
    {
     "name": "stderr",
     "output_type": "stream",
     "text": [
      "                                                                                \r"
     ]
    },
    {
     "data": {
      "text/html": [
       "<table border='1'>\n",
       "<tr><th>passenger_count</th><th>avg(trip_distance)</th></tr>\n",
       "<tr><td>8.0</td><td>4.270769230769231</td></tr>\n",
       "<tr><td>0.0</td><td>2.7619044640763186</td></tr>\n",
       "<tr><td>7.0</td><td>4.238333333333333</td></tr>\n",
       "<tr><td>NULL</td><td>21.01115439833843</td></tr>\n",
       "<tr><td>1.0</td><td>3.3381694835055487</td></tr>\n",
       "<tr><td>4.0</td><td>3.8125808912456707</td></tr>\n",
       "<tr><td>3.0</td><td>3.66439272987126</td></tr>\n",
       "<tr><td>2.0</td><td>3.9310511454237163</td></tr>\n",
       "<tr><td>6.0</td><td>3.250963234248319</td></tr>\n",
       "<tr><td>5.0</td><td>3.282478386167122</td></tr>\n",
       "<tr><td>9.0</td><td>0.0</td></tr>\n",
       "</table>\n"
      ],
      "text/plain": [
       "+---------------+------------------+\n",
       "|passenger_count|avg(trip_distance)|\n",
       "+---------------+------------------+\n",
       "|            8.0| 4.270769230769231|\n",
       "|            0.0|2.7619044640763186|\n",
       "|            7.0| 4.238333333333333|\n",
       "|           NULL| 21.01115439833843|\n",
       "|            1.0|3.3381694835055487|\n",
       "|            4.0|3.8125808912456707|\n",
       "|            3.0|  3.66439272987126|\n",
       "|            2.0|3.9310511454237163|\n",
       "|            6.0| 3.250963234248319|\n",
       "|            5.0| 3.282478386167122|\n",
       "|            9.0|               0.0|\n",
       "+---------------+------------------+"
      ]
     },
     "execution_count": 22,
     "metadata": {},
     "output_type": "execute_result"
    }
   ],
   "source": [
    "sdf.groupby('passenger_count').mean('trip_distance').limit(20)"
   ]
  },
  {
   "cell_type": "markdown",
   "metadata": {},
   "source": [
    "We can also apply multiple different aggregations and change their output names using `.agg()` and `.alias()`! To see the list of all SQL functions, visit https://spark.apache.org/docs/latest/api/python/reference/pyspark.sql/functions.html\n",
    "\n",
    "We'll also use `.orderBy()` to display the results nicely."
   ]
  },
  {
   "cell_type": "code",
   "execution_count": 23,
   "metadata": {
    "ExecuteTime": {
     "end_time": "2023-07-24T04:03:25.388514Z",
     "start_time": "2023-07-24T04:03:23.942281Z"
    },
    "code_folding": []
   },
   "outputs": [
    {
     "name": "stderr",
     "output_type": "stream",
     "text": [
      "                                                                                \r"
     ]
    },
    {
     "data": {
      "text/html": [
       "<table border='1'>\n",
       "<tr><th>passenger_count</th><th>avg_trip_amount_usd</th><th>max_trip_distance_miles</th></tr>\n",
       "<tr><td>NULL</td><td>29.1335898972719</td><td>258928.15</td></tr>\n",
       "<tr><td>0.0</td><td>24.162123563442954</td><td>74.4</td></tr>\n",
       "<tr><td>1.0</td><td>26.443471973092926</td><td>62359.52</td></tr>\n",
       "<tr><td>2.0</td><td>29.313282019602468</td><td>14098.55</td></tr>\n",
       "<tr><td>3.0</td><td>28.475419687266424</td><td>114.27</td></tr>\n",
       "<tr><td>4.0</td><td>29.611602381617445</td><td>66.81</td></tr>\n",
       "<tr><td>5.0</td><td>26.58826128722399</td><td>51.94</td></tr>\n",
       "<tr><td>6.0</td><td>26.558483857203942</td><td>50.35</td></tr>\n",
       "<tr><td>7.0</td><td>85.11166666666666</td><td>14.94</td></tr>\n",
       "<tr><td>8.0</td><td>99.33692307692307</td><td>19.69</td></tr>\n",
       "<tr><td>9.0</td><td>92.25</td><td>0.0</td></tr>\n",
       "</table>\n"
      ],
      "text/plain": [
       "+---------------+-------------------+-----------------------+\n",
       "|passenger_count|avg_trip_amount_usd|max_trip_distance_miles|\n",
       "+---------------+-------------------+-----------------------+\n",
       "|           NULL|   29.1335898972719|              258928.15|\n",
       "|            0.0| 24.162123563442954|                   74.4|\n",
       "|            1.0| 26.443471973092926|               62359.52|\n",
       "|            2.0| 29.313282019602468|               14098.55|\n",
       "|            3.0| 28.475419687266424|                 114.27|\n",
       "|            4.0| 29.611602381617445|                  66.81|\n",
       "|            5.0|  26.58826128722399|                  51.94|\n",
       "|            6.0| 26.558483857203942|                  50.35|\n",
       "|            7.0|  85.11166666666666|                  14.94|\n",
       "|            8.0|  99.33692307692307|                  19.69|\n",
       "|            9.0|              92.25|                    0.0|\n",
       "+---------------+-------------------+-----------------------+"
      ]
     },
     "execution_count": 23,
     "metadata": {},
     "output_type": "execute_result"
    }
   ],
   "source": [
    "aggregated_results = sdf \\\n",
    "                    .groupBy(\"passenger_count\") \\\n",
    "                    .agg(\n",
    "                        F.mean(\"total_amount\").alias(\"avg_trip_amount_usd\"),\n",
    "                        F.max(\"trip_distance\").alias(\"max_trip_distance_miles\")\n",
    "                    ) \\\n",
    "                    .orderBy(\"passenger_count\")\n",
    "\n",
    "aggregated_results.limit(50)"
   ]
  },
  {
   "cell_type": "markdown",
   "metadata": {},
   "source": [
    "## Saving Data\n",
    "By default, Spark will save your data sources as a `parquet` (highly recommended). If you wish to take a smaller sample and save it as a `csv` to load into `pandas`, that is also fine."
   ]
  },
  {
   "cell_type": "code",
   "execution_count": 24,
   "metadata": {
    "ExecuteTime": {
     "end_time": "2023-07-24T04:03:27.419466Z",
     "start_time": "2023-07-24T04:03:25.389795Z"
    }
   },
   "outputs": [
    {
     "name": "stderr",
     "output_type": "stream",
     "text": [
      "                                                                                \r"
     ]
    }
   ],
   "source": [
    "aggregated_results.write.mode('overwrite').parquet('../../data/tute_data/aggregated_results')"
   ]
  },
  {
   "cell_type": "markdown",
   "metadata": {},
   "source": [
    "Your directory may look a bit funky like this:\n",
    "\n",
    "![image.png](../../media/aggregated_results_dir.png)\n",
    "\n",
    "Don't worry, just leave it as is (we don't have time to cover everything about Spark unfortunately) and you can just read in the directory as is."
   ]
  },
  {
   "cell_type": "code",
   "execution_count": 25,
   "metadata": {
    "ExecuteTime": {
     "end_time": "2023-07-24T04:03:27.775017Z",
     "start_time": "2023-07-24T04:03:27.420416Z"
    }
   },
   "outputs": [
    {
     "data": {
      "text/html": [
       "<table border='1'>\n",
       "<tr><th>passenger_count</th><th>avg_trip_amount_usd</th><th>max_trip_distance_miles</th></tr>\n",
       "<tr><td>NULL</td><td>29.1335898972719</td><td>258928.15</td></tr>\n",
       "<tr><td>0.0</td><td>24.162123563442954</td><td>74.4</td></tr>\n",
       "<tr><td>1.0</td><td>26.443471973092926</td><td>62359.52</td></tr>\n",
       "<tr><td>2.0</td><td>29.313282019602468</td><td>14098.55</td></tr>\n",
       "<tr><td>3.0</td><td>28.475419687266424</td><td>114.27</td></tr>\n",
       "<tr><td>4.0</td><td>29.611602381617445</td><td>66.81</td></tr>\n",
       "<tr><td>5.0</td><td>26.58826128722399</td><td>51.94</td></tr>\n",
       "<tr><td>6.0</td><td>26.558483857203942</td><td>50.35</td></tr>\n",
       "<tr><td>7.0</td><td>85.11166666666666</td><td>14.94</td></tr>\n",
       "<tr><td>8.0</td><td>99.33692307692307</td><td>19.69</td></tr>\n",
       "<tr><td>9.0</td><td>92.25</td><td>0.0</td></tr>\n",
       "</table>\n"
      ],
      "text/plain": [
       "+---------------+-------------------+-----------------------+\n",
       "|passenger_count|avg_trip_amount_usd|max_trip_distance_miles|\n",
       "+---------------+-------------------+-----------------------+\n",
       "|           NULL|   29.1335898972719|              258928.15|\n",
       "|            0.0| 24.162123563442954|                   74.4|\n",
       "|            1.0| 26.443471973092926|               62359.52|\n",
       "|            2.0| 29.313282019602468|               14098.55|\n",
       "|            3.0| 28.475419687266424|                 114.27|\n",
       "|            4.0| 29.611602381617445|                  66.81|\n",
       "|            5.0|  26.58826128722399|                  51.94|\n",
       "|            6.0| 26.558483857203942|                  50.35|\n",
       "|            7.0|  85.11166666666666|                  14.94|\n",
       "|            8.0|  99.33692307692307|                  19.69|\n",
       "|            9.0|              92.25|                    0.0|\n",
       "+---------------+-------------------+-----------------------+"
      ]
     },
     "execution_count": 25,
     "metadata": {},
     "output_type": "execute_result"
    }
   ],
   "source": [
    "temp_results = spark.read.parquet('../../data/tute_data/aggregated_results')\n",
    "temp_results.limit(25)"
   ]
  },
  {
   "cell_type": "markdown",
   "metadata": {},
   "source": [
    "---"
   ]
  },
  {
   "cell_type": "markdown",
   "metadata": {},
   "source": [
    "# Summary (and Break)\n",
    "Cool, we've covered the very very basics of Spark and will now cover the basics of plotting.\n",
    "\n",
    "Rest assured, we will cover more intricate transformations for the next tutorial (which you may go ahead in of course)."
   ]
  },
  {
   "cell_type": "markdown",
   "metadata": {},
   "source": [
    "---"
   ]
  },
  {
   "cell_type": "markdown",
   "metadata": {},
   "source": [
    "## Sampling Data for Plotting"
   ]
  },
  {
   "cell_type": "markdown",
   "metadata": {},
   "source": [
    "Whilst Spark is amazing at handling big data sets, it isn't a great idea to plot all of it. We suggest taking a maximum of 5% of records for the tutorial. \n",
    "\n",
    "You can up it to your requirements, but we recommend sticking to less than 1 million records per month for visualization purposes.\n",
    "\n",
    "**Project 1 Checklist:**\n",
    "- You have justified your sample size (i.e due to runtime, distribution of data, etc)\n",
    "- You have justified your sampling method (i.e random, stratified, etc)\n",
    "- You have detailed in your report that you have sampled for visualization purposes BUT your analysis still uses the full distribution of data\n",
    "- You mention any issues that can potentially be caused by sampling (i.e biased visualisation if using random)\n",
    "\n",
    "Remember, it is your responsibility as the student (future Data Scientist) to convince the tutor (your stakeholders) that your justifications and assumptions are correct!"
   ]
  },
  {
   "cell_type": "markdown",
   "metadata": {
    "ExecuteTime": {
     "end_time": "2022-07-12T05:45:28.804443Z",
     "start_time": "2022-07-12T05:45:28.724408Z"
    }
   },
   "source": [
    "To sample your data and convert it into a `pandas` dataframe, you can use the `.toPandas()` and save a sample of the `sdf` to read it in. We will also fix the random seed to be `0` just for consistency."
   ]
  },
  {
   "cell_type": "code",
   "execution_count": 41,
   "metadata": {
    "ExecuteTime": {
     "end_time": "2023-07-24T04:03:28.560339Z",
     "start_time": "2023-07-24T04:03:28.545932Z"
    }
   },
   "outputs": [],
   "source": [
    "SAMPLE_SIZE = 0.05"
   ]
  },
  {
   "cell_type": "code",
   "execution_count": 42,
   "metadata": {
    "ExecuteTime": {
     "end_time": "2023-07-24T04:03:34.788025Z",
     "start_time": "2023-07-24T04:03:28.760727Z"
    },
    "scrolled": true
   },
   "outputs": [
    {
     "name": "stderr",
     "output_type": "stream",
     "text": [
      "                                                                                \r"
     ]
    }
   ],
   "source": [
    "import pandas as pd\n",
    "df = sdf.sample(SAMPLE_SIZE, seed=0).toPandas()\n",
    "df.to_csv('../../data/tute_data/sample_data.csv', index=False)"
   ]
  },
  {
   "cell_type": "code",
   "execution_count": 43,
   "metadata": {
    "ExecuteTime": {
     "end_time": "2023-07-24T04:03:34.855142Z",
     "start_time": "2023-07-24T04:03:34.789165Z"
    }
   },
   "outputs": [],
   "source": [
    "df.to_parquet('../../data/tute_data/sample_data.parquet')"
   ]
  },
  {
   "cell_type": "markdown",
   "metadata": {},
   "source": [
    "Just spend a moment and look at the disk space the `csv` takes for the 5% sample size (16.1mb). Compare that to the `parquet` which isn't even 4mb, let alone the full sample size in `parquet` format taking only 48mb of disk space.\n",
    "\n",
    "Let that sink in and give our thanks to the devs who made Spark. "
   ]
  },
  {
   "cell_type": "code",
   "execution_count": 44,
   "metadata": {
    "ExecuteTime": {
     "end_time": "2023-07-24T04:03:35.029098Z",
     "start_time": "2023-07-24T04:03:34.856046Z"
    }
   },
   "outputs": [
    {
     "name": "stdout",
     "output_type": "stream",
     "text": [
      "CPU times: user 462 ms, sys: 255 ms, total: 717 ms\n",
      "Wall time: 1.04 s\n"
     ]
    }
   ],
   "source": [
    "%%time\n",
    "df_csv = pd.read_csv('../../data/tute_data/sample_data.csv')"
   ]
  },
  {
   "cell_type": "code",
   "execution_count": 45,
   "metadata": {
    "ExecuteTime": {
     "end_time": "2023-07-24T04:03:35.040185Z",
     "start_time": "2023-07-24T04:03:35.030786Z"
    }
   },
   "outputs": [
    {
     "name": "stdout",
     "output_type": "stream",
     "text": [
      "CPU times: user 48.7 ms, sys: 47.1 ms, total: 95.8 ms\n",
      "Wall time: 119 ms\n"
     ]
    }
   ],
   "source": [
    "%%time\n",
    "df_parquet = pd.read_parquet('../../data/tute_data/sample_data.parquet')"
   ]
  },
  {
   "cell_type": "markdown",
   "metadata": {},
   "source": [
    "We recommend you save every dataframe or aggregation as `parquet` so you don't keep running your notebook from top to bottom waiting 20 years for a result, or have so many variables and dataframes defined that you run out of memory for small transformations.\n",
    "\n",
    "We strongly suggest you have a `code` folder in your Project 1 directory with the following structure:\n",
    "- `preprocessing_notebook_part_1.ipynb`: outputs a structured parquet format and saves it.\n",
    "- `preprocessing_notebook_part_2.ipynb`: reads in the output from above and does some aggregations and sampling before saving it.\n",
    "- `data_analysis_xyz.ipynb`: conducts analysis on a single sample or aggregation from the output above.\n",
    "- `data_analysis_abc.ipynb`: conducts analysis on another single sample or aggregation from the output above.\n",
    "- `...`\n",
    "\n",
    "This is a very basic version of what you call a \"data pipeline\" (or ETL pipeline, etc)."
   ]
  },
  {
   "cell_type": "markdown",
   "metadata": {},
   "source": [
    "_________________\n"
   ]
  },
  {
   "cell_type": "markdown",
   "metadata": {},
   "source": [
    "# Project 1 Tips and Questions"
   ]
  },
  {
   "cell_type": "markdown",
   "metadata": {},
   "source": [
    "### IMPORTANT PLEASE READ THIS\n",
    "First and foremost, you want to be familiar with the homepage https://www1.nyc.gov/site/tlc/about/tlc-trip-record-data.page\n",
    "\n",
    "Read through the relevant data dictionaries:\n",
    "- **MUST READ:** https://www1.nyc.gov/assets/tlc/downloads/pdf/trip_record_user_guide.pdf\n",
    "- https://www1.nyc.gov/assets/tlc/downloads/pdf/data_dictionary_trip_records_yellow.pdf\n",
    "- https://www1.nyc.gov/assets/tlc/downloads/pdf/data_dictionary_trip_records_green.pdf\n",
    "- https://www1.nyc.gov/assets/tlc/downloads/pdf/data_dictionary_trip_records_fhv.pdf\n",
    "- https://www1.nyc.gov/assets/tlc/downloads/pdf/data_dictionary_trip_records_hvfhs.pdf\n",
    "\n",
    "Why? Your tutors can be treated as \"experts\" in this field. To prepare you for the Industry Project, we need to assess students on adhering to requirements and business rules. \n",
    "\n",
    "The tutor team knows this dataset inside out. If you are incorrectly filtering records without sufficient justification, you will be losing marks as per requirements.\n",
    "\n",
    "### An Incorrect Example\n",
    "- Scenario: Student does analysis on `tip_amount` and finds several `NULL` values and either drops them or includes it in the analysis. Later on, they use a regression model to predict this value.\n",
    "\n",
    "- Result: According to the data dictionary, `tip_amount` is automatically populated for credit card tips (`payment_type` is `1`). Cash tips are not included. This means that the students' analysis included all payment types despite this field clearly specifying the rule. \n",
    "\n",
    "- Penalty: The student will lose marks on the analysis section. The modelling section will be marked _assuming_ they got this filtering method correct. However, if another issue pops up due to this, there will be another penalty applied. Please get this right!\n",
    "\n",
    "- Solution: Student should filter for only `payment_type=1` and now, the student can (hopefully) conduct correct analysis on `tip_amount`.\n",
    "\n",
    "Several students over the past few years have lost many marks for simple rules like this (especially `tip_amount`)."
   ]
  },
  {
   "cell_type": "markdown",
   "metadata": {},
   "source": [
    "### Readable Code\n",
    "- We will be assessing the quality of your code and how you present it in your notebooks. \n",
    "- This is because there is no point writing code that cannot be easily interpreted. At the end of the day, employers and clients are not only paying for your analysis, but also the corresponding code. \n",
    "- If your code is confusing or difficult to read, there is little chance your client will come back to you.\n",
    "\n",
    "**Variable Names:**  \n",
    "As long as you are consistent, then it is fine. For example, commit to either using:\n",
    "- Snake Case: words are seperated by underscores such as `variable_name`\n",
    "- Camel Case: words are seperated by captials such as `variableName`\n",
    "\n",
    "Your variables should be contextual and describe the code. That is, try to name your variables to be understandable **without comments**.\n",
    "\n",
    "**Comments and Docstrings (w.r.t JupyterNotebook Cells):**  \n",
    "Cells in Jupyter Notebook should aim to do one \"block of logic\" at a time (i.e importing libraries, defining functions, filtering rows, etc).\n",
    "- If it takes a reader more than a few seconds to understand your cell, you need comments.\n",
    "- Your functions need to have docstrings describing what they do. If you forgot, search it online or go visit your COMP10001 Grok course.\n",
    "- Use markdown cells for longer comments or explaining logic, inline comments in code for short descriptions of hard-to-understand code.\n",
    "\n",
    "We won't ask you to run `flake8` or `pylint` on your notebooks. We just ask for good comments in the code and markdown cells, reasonable variable names, and clean directories.\n",
    "\n",
    "Here is a good example of good docstring + comments for functions.\n",
    "\n",
    "```python\n",
    "def some_function(some_val: str) -> str:\n",
    "    \"\"\"\n",
    "    This function takes in some string value\n",
    "    and outputs some string value via some transformation.\n",
    "    \"\"\"\n",
    "    # make sure the casing is correct\n",
    "    new_val = some_val.casefold()\n",
    "    return new_val\n",
    "```"
   ]
  }
 ],
 "metadata": {
  "kernelspec": {
   "display_name": "Python 3 (ipykernel)",
   "language": "python",
   "name": "python3"
  },
  "language_info": {
   "codemirror_mode": {
    "name": "ipython",
    "version": 3
   },
   "file_extension": ".py",
   "mimetype": "text/x-python",
   "name": "python",
   "nbconvert_exporter": "python",
   "pygments_lexer": "ipython3",
   "version": "3.12.4"
  },
  "latex_envs": {
   "LaTeX_envs_menu_present": true,
   "autoclose": false,
   "autocomplete": true,
   "bibliofile": "biblio.bib",
   "cite_by": "apalike",
   "current_citInitial": 1,
   "eqLabelWithNumbers": true,
   "eqNumInitial": 1,
   "hotkeys": {
    "equation": "Ctrl-E",
    "itemize": "Ctrl-I"
   },
   "labels_anchors": false,
   "latex_user_defs": false,
   "report_style_numbering": false,
   "user_envs_cfg": false
  },
  "toc": {
   "base_numbering": 1,
   "nav_menu": {},
   "number_sections": true,
   "sideBar": true,
   "skip_h1_title": false,
   "title_cell": "Table of Contents",
   "title_sidebar": "Contents",
   "toc_cell": false,
   "toc_position": {},
   "toc_section_display": true,
   "toc_window_display": false
  },
  "varInspector": {
   "cols": {
    "lenName": 16,
    "lenType": 16,
    "lenVar": 40
   },
   "kernels_config": {
    "python": {
     "delete_cmd_postfix": "",
     "delete_cmd_prefix": "del ",
     "library": "var_list.py",
     "varRefreshCmd": "print(var_dic_list())"
    },
    "r": {
     "delete_cmd_postfix": ") ",
     "delete_cmd_prefix": "rm(",
     "library": "var_list.r",
     "varRefreshCmd": "cat(var_dic_list()) "
    }
   },
   "types_to_exclude": [
    "module",
    "function",
    "builtin_function_or_method",
    "instance",
    "_Feature"
   ],
   "window_display": false
  },
  "vscode": {
   "interpreter": {
    "hash": "1c6f7b18ea35922dad1f927d5d0123541ee5478d7a9729c6a2c6ed680be427a0"
   }
  }
 },
 "nbformat": 4,
 "nbformat_minor": 4
}
